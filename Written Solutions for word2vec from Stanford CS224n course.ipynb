{
 "cells": [
  {
   "cell_type": "markdown",
   "metadata": {},
   "source": [
    "\n",
    "# Written Solution for CS224n [Assignment 2](http://web.stanford.edu/class/cs224n/assignments/a2.pdf) from Stanford's Natural Language Processing with Deep Learning\n",
    "## Understanding word2vec"
   ]
  },
  {
   "cell_type": "markdown",
   "metadata": {},
   "source": [
    "## Question (a)\n",
    "<img src=\"img/a.png\" width=\"800\" />"
   ]
  },
  {
   "cell_type": "markdown",
   "metadata": {},
   "source": [
    "## Answer (a)"
   ]
  },
  {
   "cell_type": "markdown",
   "metadata": {},
   "source": [
    "Here , V represents the vocab_size.\n",
    "Given outside word `o` and context word `c`.\n",
    "\n",
    "The distribution of **y** is as follows:\n",
    "\n",
    "$$\n",
    "y_w=\n",
    "\\begin{cases}\n",
    "1& \\text{w=o}\\\\\n",
    "0& \\text{w!=o}\n",
    "\\end{cases}\n",
    "$$\n",
    "\n",
    "$$\n",
    "-\\sum_{w=1}^{V} y_wlog(\\hat{y_w}) = -y_olog(\\hat{y_o})=-log(\\hat{y_o})\n",
    "$$\n",
    "\n",
    "Because when w=\"the center word `o`\" we replace ${y_o}$ with 1."
   ]
  },
  {
   "cell_type": "markdown",
   "metadata": {},
   "source": [
    "## Question (b)\n",
    "<img src=\"img/b.png\" width=\"800\" />\n",
    "\n",
    "**NOTE**: Here's an excellent [refresher video](https://www.youtube.com/watch?v=HOYA0-pOHsg) on the chain rule and partial derivatives."
   ]
  },
  {
   "cell_type": "markdown",
   "metadata": {},
   "source": [
    "## Answer (b)"
   ]
  },
  {
   "cell_type": "markdown",
   "metadata": {},
   "source": [
    "Here I use the identities the professor provided in the notes: [Computing Neural Network Gradients](http://web.stanford.edu/class/cs224n/readings/gradient-notes.pdf). \n",
    "\n",
    "From [identity 3.7](http://web.stanford.edu/class/cs224n/readings/gradient-notes.pdf) we know the gradient is:\n",
    "$$\n",
    "\\frac{\\partial J}{\\partial \\theta} = (\\hat{y} - y)^T\n",
    "$$\n",
    "\n",
    "From the identities we also know that: \n",
    "$$\n",
    "J = CE(y, \\hat{y}) \\\\\n",
    "\\hat{y} = softmax(\\theta)\\\\\n",
    "$$\n",
    "\n",
    "$y$ is a column vector in the above equation. So, we can use chain rules to solve the partial derivative:\n",
    "The chain rule says\n",
    "$$\\begin{aligned}\n",
    "\\frac{\\partial J}{\\partial v_c} &= \\frac{\\partial J}{\\partial \\theta} \\frac{\\partial \\theta}{\\partial v_c} \\\\\n",
    "&= (\\hat{y} - y) \\frac{\\partial U^Tv_c}{\\partial v_c} \\\\\n",
    "&= U^T(\\hat{y} - y)^T\n",
    "\\end{aligned}$$\n",
    "\n",
    "\n",
    "\n"
   ]
  },
  {
   "cell_type": "markdown",
   "metadata": {},
   "source": [
    "## Question (c)\n",
    "<img src=\"img/c.png\" width=\"800\" />"
   ]
  },
  {
   "cell_type": "markdown",
   "metadata": {},
   "source": [
    "## Answer (c)\n",
    "similar to the equation above.\n",
    "$$\\begin{aligned}\n",
    "\\frac{\\partial J}{\\partial v_c} &= \\frac{\\partial J}{\\partial \\theta} \\frac{\\partial \\theta}{\\partial U} \\\\\n",
    "&= (\\hat{y} - y) \\frac{\\partial U^Tv_c}{\\partial U} \\\\\n",
    "&= v_c(\\hat{y} - y)^T\n",
    "\\end{aligned}$$"
   ]
  },
  {
   "cell_type": "markdown",
   "metadata": {},
   "source": [
    "## Question (d)\n",
    "<img src=\"img/d.png\" width=\"800\" />"
   ]
  },
  {
   "cell_type": "markdown",
   "metadata": {},
   "source": [
    "## Answer (d)\n",
    "$$\\begin{aligned}\n",
    "\\frac{\\partial \\sigma(x)}{\\partial x} &= \\frac{\\partial \\frac{e^x}{e^x+1}}{\\partial x} \\\\\n",
    "&= \\frac{e^x(e^x+1)-e^xe^x}{(e^x+1)^2} \\\\\n",
    "&= \\frac{e^x}{(e^x+1)^2} \\\\\n",
    "&= \\sigma (x) (1- \\sigma(x))\n",
    "\\end{aligned}$$\n",
    "\n",
    "[Here's](http://cs231n.github.io/optimization-2/) a different \"tricky\" way to compute derivative of the sigmoid function if you perform the derivation where we add and subtract a 1 in the numerator."
   ]
  },
  {
   "cell_type": "code",
   "execution_count": null,
   "metadata": {},
   "outputs": [],
   "source": []
  }
 ],
 "metadata": {
  "kernelspec": {
   "display_name": "Python 3",
   "language": "python",
   "name": "python3"
  },
  "language_info": {
   "codemirror_mode": {
    "name": "ipython",
    "version": 3
   },
   "file_extension": ".py",
   "mimetype": "text/x-python",
   "name": "python",
   "nbconvert_exporter": "python",
   "pygments_lexer": "ipython3",
   "version": "3.7.3"
  },
  "varInspector": {
   "cols": {
    "lenName": 16,
    "lenType": 16,
    "lenVar": 40
   },
   "kernels_config": {
    "python": {
     "delete_cmd_postfix": "",
     "delete_cmd_prefix": "del ",
     "library": "var_list.py",
     "varRefreshCmd": "print(var_dic_list())"
    },
    "r": {
     "delete_cmd_postfix": ") ",
     "delete_cmd_prefix": "rm(",
     "library": "var_list.r",
     "varRefreshCmd": "cat(var_dic_list()) "
    }
   },
   "types_to_exclude": [
    "module",
    "function",
    "builtin_function_or_method",
    "instance",
    "_Feature"
   ],
   "window_display": false
  }
 },
 "nbformat": 4,
 "nbformat_minor": 2
}
